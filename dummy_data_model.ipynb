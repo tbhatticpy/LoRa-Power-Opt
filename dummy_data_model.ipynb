{
 "cells": [
  {
   "cell_type": "code",
   "execution_count": 1,
   "metadata": {},
   "outputs": [],
   "source": [
    "import numpy as np\n",
    "import tensorflow as tf\n",
    "import keras\n",
    "from keras.models import Sequential\n",
    "from keras.layers import Dense\n",
    "from keras.optimizers import Adam\n",
    "from sklearn.utils import shuffle\n",
    "import pandas as pd\n",
    "from keras.models import load_model"
   ]
  },
  {
   "cell_type": "code",
   "execution_count": 2,
   "metadata": {},
   "outputs": [],
   "source": [
    "train_file = pd.read_csv('myData6.csv')"
   ]
  },
  {
   "cell_type": "code",
   "execution_count": 3,
   "metadata": {},
   "outputs": [
    {
     "name": "stdout",
     "output_type": "stream",
     "text": [
      "Number of rows in the file:  15601\n",
      "Number of columns in the file:  5\n"
     ]
    },
    {
     "data": {
      "text/html": [
       "<div>\n",
       "<style scoped>\n",
       "    .dataframe tbody tr th:only-of-type {\n",
       "        vertical-align: middle;\n",
       "    }\n",
       "\n",
       "    .dataframe tbody tr th {\n",
       "        vertical-align: top;\n",
       "    }\n",
       "\n",
       "    .dataframe thead th {\n",
       "        text-align: right;\n",
       "    }\n",
       "</style>\n",
       "<table border=\"1\" class=\"dataframe\">\n",
       "  <thead>\n",
       "    <tr style=\"text-align: right;\">\n",
       "      <th></th>\n",
       "      <th>Distance</th>\n",
       "      <th>SF</th>\n",
       "      <th>CR</th>\n",
       "      <th>Power</th>\n",
       "      <th>PRR</th>\n",
       "    </tr>\n",
       "  </thead>\n",
       "  <tbody>\n",
       "    <tr>\n",
       "      <th>0</th>\n",
       "      <td>1</td>\n",
       "      <td>1</td>\n",
       "      <td>1</td>\n",
       "      <td>1</td>\n",
       "      <td>1.0</td>\n",
       "    </tr>\n",
       "    <tr>\n",
       "      <th>1</th>\n",
       "      <td>1</td>\n",
       "      <td>7</td>\n",
       "      <td>5</td>\n",
       "      <td>3</td>\n",
       "      <td>1.0</td>\n",
       "    </tr>\n",
       "    <tr>\n",
       "      <th>2</th>\n",
       "      <td>101</td>\n",
       "      <td>7</td>\n",
       "      <td>5</td>\n",
       "      <td>3</td>\n",
       "      <td>1.0</td>\n",
       "    </tr>\n",
       "    <tr>\n",
       "      <th>3</th>\n",
       "      <td>201</td>\n",
       "      <td>7</td>\n",
       "      <td>5</td>\n",
       "      <td>3</td>\n",
       "      <td>1.0</td>\n",
       "    </tr>\n",
       "    <tr>\n",
       "      <th>4</th>\n",
       "      <td>301</td>\n",
       "      <td>7</td>\n",
       "      <td>5</td>\n",
       "      <td>3</td>\n",
       "      <td>1.0</td>\n",
       "    </tr>\n",
       "  </tbody>\n",
       "</table>\n",
       "</div>"
      ],
      "text/plain": [
       "   Distance  SF  CR  Power  PRR\n",
       "0         1   1   1      1  1.0\n",
       "1         1   7   5      3  1.0\n",
       "2       101   7   5      3  1.0\n",
       "3       201   7   5      3  1.0\n",
       "4       301   7   5      3  1.0"
      ]
     },
     "execution_count": 3,
     "metadata": {},
     "output_type": "execute_result"
    }
   ],
   "source": [
    "print('Number of rows in the file: ', train_file.shape[0])\n",
    "print('Number of columns in the file: ', train_file.shape[1])\n",
    "train_file.head()"
   ]
  },
  {
   "cell_type": "code",
   "execution_count": 4,
   "metadata": {},
   "outputs": [
    {
     "name": "stdout",
     "output_type": "stream",
     "text": [
      "<class 'pandas.core.frame.DataFrame'>\n",
      "RangeIndex: 15601 entries, 0 to 15600\n",
      "Data columns (total 5 columns):\n",
      " #   Column    Non-Null Count  Dtype  \n",
      "---  ------    --------------  -----  \n",
      " 0   Distance  15601 non-null  int64  \n",
      " 1   SF        15601 non-null  int64  \n",
      " 2   CR        15601 non-null  int64  \n",
      " 3   Power     15601 non-null  int64  \n",
      " 4   PRR       15601 non-null  float64\n",
      "dtypes: float64(1), int64(4)\n",
      "memory usage: 609.5 KB\n"
     ]
    }
   ],
   "source": [
    "train_file.info()"
   ]
  },
  {
   "cell_type": "code",
   "execution_count": 5,
   "metadata": {},
   "outputs": [
    {
     "name": "stdout",
     "output_type": "stream",
     "text": [
      "['Distance', 'SF', 'CR', 'Power', 'PRR']\n"
     ]
    }
   ],
   "source": [
    "columns = train_file.keys()\n",
    "columns = list(columns)\n",
    "print(columns)"
   ]
  },
  {
   "cell_type": "code",
   "execution_count": 6,
   "metadata": {},
   "outputs": [],
   "source": [
    "dist = train_file.pop(train_file.columns[0])/10000\n",
    "sf = (train_file.pop(train_file.columns[0]))/12\n",
    "cr = (train_file.pop(train_file.columns[0]))/7\n",
    "pw = (train_file.pop(train_file.columns[0]))/27\n",
    "prr = (train_file.pop(train_file.columns[0]))"
   ]
  },
  {
   "cell_type": "code",
   "execution_count": 7,
   "metadata": {},
   "outputs": [],
   "source": [
    "train_labels_temp = prr\n",
    "train_samples_temp = np.column_stack((dist, sf, cr, pw))"
   ]
  },
  {
   "cell_type": "code",
   "execution_count": 8,
   "metadata": {},
   "outputs": [],
   "source": [
    "train_samples_shuf, train_labels_shuf = shuffle(train_samples_temp, train_labels_temp)"
   ]
  },
  {
   "cell_type": "code",
   "execution_count": 9,
   "metadata": {},
   "outputs": [
    {
     "name": "stdout",
     "output_type": "stream",
     "text": [
      "(15601,)\n",
      "(15601, 4)\n"
     ]
    }
   ],
   "source": [
    "train_labels = train_labels_shuf\n",
    "train_samples = train_samples_shuf\n",
    "print(train_labels.shape)\n",
    "print(train_samples.shape)"
   ]
  },
  {
   "cell_type": "code",
   "execution_count": 10,
   "metadata": {},
   "outputs": [],
   "source": [
    "model = Sequential([\n",
    "    Dense(16, input_shape=(4,), activation='relu'),\n",
    "    Dense(32, activation='relu'),\n",
    "    Dense(1, activation='sigmoid')\n",
    "])"
   ]
  },
  {
   "cell_type": "code",
   "execution_count": 11,
   "metadata": {},
   "outputs": [],
   "source": [
    "model.compile(optimizer=Adam(lr=0.0001), loss = 'binary_crossentropy', metrics=['accuracy'])"
   ]
  },
  {
   "cell_type": "code",
   "execution_count": 12,
   "metadata": {},
   "outputs": [
    {
     "name": "stdout",
     "output_type": "stream",
     "text": [
      "Epoch 1/15\n",
      "439/439 [==============================] - 3s 5ms/step - loss: 0.5297 - accuracy: 0.7872 - val_loss: 0.3421 - val_accuracy: 0.8117\n",
      "Epoch 2/15\n",
      "439/439 [==============================] - 1s 3ms/step - loss: 0.3348 - accuracy: 0.7878 - val_loss: 0.2724 - val_accuracy: 0.8117\n",
      "Epoch 3/15\n",
      "439/439 [==============================] - 1s 3ms/step - loss: 0.2853 - accuracy: 0.7879 - val_loss: 0.2409 - val_accuracy: 0.8117\n",
      "Epoch 4/15\n",
      "439/439 [==============================] - 1s 3ms/step - loss: 0.2517 - accuracy: 0.7881 - val_loss: 0.2098 - val_accuracy: 0.8117\n",
      "Epoch 5/15\n",
      "439/439 [==============================] - 1s 3ms/step - loss: 0.2151 - accuracy: 0.7907 - val_loss: 0.1791 - val_accuracy: 0.8117\n",
      "Epoch 6/15\n",
      "439/439 [==============================] - 1s 3ms/step - loss: 0.1852 - accuracy: 0.7908 - val_loss: 0.1533 - val_accuracy: 0.8117\n",
      "Epoch 7/15\n",
      "439/439 [==============================] - 1s 3ms/step - loss: 0.1596 - accuracy: 0.7847 - val_loss: 0.1330 - val_accuracy: 0.8117\n",
      "Epoch 8/15\n",
      "439/439 [==============================] - 1s 3ms/step - loss: 0.1384 - accuracy: 0.7907 - val_loss: 0.1187 - val_accuracy: 0.8117\n",
      "Epoch 9/15\n",
      "439/439 [==============================] - 1s 3ms/step - loss: 0.1243 - accuracy: 0.7843 - val_loss: 0.1073 - val_accuracy: 0.8117\n",
      "Epoch 10/15\n",
      "439/439 [==============================] - 1s 3ms/step - loss: 0.1108 - accuracy: 0.7900 - val_loss: 0.1001 - val_accuracy: 0.8117\n",
      "Epoch 11/15\n",
      "439/439 [==============================] - 1s 3ms/step - loss: 0.1069 - accuracy: 0.7871 - val_loss: 0.0926 - val_accuracy: 0.8117\n",
      "Epoch 12/15\n",
      "439/439 [==============================] - 1s 3ms/step - loss: 0.0952 - accuracy: 0.7946 - val_loss: 0.0878 - val_accuracy: 0.8117\n",
      "Epoch 13/15\n",
      "439/439 [==============================] - 1s 3ms/step - loss: 0.0933 - accuracy: 0.7882 - val_loss: 0.0846 - val_accuracy: 0.8117\n",
      "Epoch 14/15\n",
      "439/439 [==============================] - 1s 3ms/step - loss: 0.0882 - accuracy: 0.7896 - val_loss: 0.0812 - val_accuracy: 0.8117\n",
      "Epoch 15/15\n",
      "439/439 [==============================] - 1s 3ms/step - loss: 0.0837 - accuracy: 0.7898 - val_loss: 0.0779 - val_accuracy: 0.8117\n"
     ]
    }
   ],
   "source": [
    "history = model.fit(train_samples, train_labels, validation_split=0.1, epochs=15, verbose=1)"
   ]
  },
  {
   "cell_type": "code",
   "execution_count": 34,
   "metadata": {},
   "outputs": [
    {
     "name": "stdout",
     "output_type": "stream",
     "text": [
      "(1, 4)\n"
     ]
    }
   ],
   "source": [
    "inpt = np.array([[10000/10000], [7/12], [7/7], [3/27]])\n",
    "inpt = inpt.reshape(1,-1)\n",
    "print(inpt.shape)"
   ]
  },
  {
   "cell_type": "code",
   "execution_count": 35,
   "metadata": {},
   "outputs": [
    {
     "name": "stdout",
     "output_type": "stream",
     "text": [
      "0.020862386\n"
     ]
    }
   ],
   "source": [
    "prr = model.predict(inpt)\n",
    "print(prr[0][0])"
   ]
  },
  {
   "cell_type": "code",
   "execution_count": 15,
   "metadata": {},
   "outputs": [],
   "source": [
    "model.save('dummy_data_model.h5')"
   ]
  },
  {
   "cell_type": "code",
   "execution_count": 2,
   "metadata": {},
   "outputs": [],
   "source": [
    "new_model = load_model('dummy_data_model.h5')"
   ]
  },
  {
   "cell_type": "code",
   "execution_count": 3,
   "metadata": {},
   "outputs": [
    {
     "name": "stdout",
     "output_type": "stream",
     "text": [
      "(1, 4)\n",
      "0.027005365\n"
     ]
    }
   ],
   "source": [
    "inpt = np.array([[10000/10000], [7/12], [5/7], [3/27]])\n",
    "inpt = inpt.reshape(1,-1)\n",
    "print(inpt.shape)\n",
    "prr = new_model.predict(inpt)\n",
    "print(prr[0][0])"
   ]
  },
  {
   "cell_type": "code",
   "execution_count": null,
   "metadata": {},
   "outputs": [],
   "source": []
  }
 ],
 "metadata": {
  "kernelspec": {
   "display_name": "Python 3",
   "language": "python",
   "name": "python3"
  },
  "language_info": {
   "codemirror_mode": {
    "name": "ipython",
    "version": 3
   },
   "file_extension": ".py",
   "mimetype": "text/x-python",
   "name": "python",
   "nbconvert_exporter": "python",
   "pygments_lexer": "ipython3",
   "version": "3.8.5"
  }
 },
 "nbformat": 4,
 "nbformat_minor": 4
}
