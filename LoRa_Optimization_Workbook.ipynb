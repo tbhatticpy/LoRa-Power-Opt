{
 "cells": [
  {
   "cell_type": "code",
   "execution_count": 1,
   "metadata": {},
   "outputs": [],
   "source": [
    "import numpy as np\n",
    "from keras.models import load_model"
   ]
  },
  {
   "cell_type": "code",
   "execution_count": 2,
   "metadata": {},
   "outputs": [],
   "source": [
    "model = load_model('dummy_data_model.h5')"
   ]
  },
  {
   "cell_type": "code",
   "execution_count": 11,
   "metadata": {},
   "outputs": [
    {
     "name": "stdout",
     "output_type": "stream",
     "text": [
      "Enter distance of node to the gateway in meters: 5000\n",
      "Enter the number of walls between the node and gateway: 3\n",
      "Enter the line of sight parameter: 2\n",
      "Enter the SF parameter: 8\n",
      "Enter the PRR: 0.13\n"
     ]
    }
   ],
   "source": [
    "n = 0\n",
    "prediction = np.zeros((1,79))\n",
    "sfvec = np.zeros((1,79))\n",
    "pwvec = np.zeros((1,79))"
   ]
  },
  {
   "cell_type": "code",
   "execution_count": 12,
   "metadata": {},
   "outputs": [],
   "source": [
    "sf = 7\n",
    "while (sf<=12):\n",
    "    pw = 3\n",
    "    while (pw<=27):\n",
    "        inpt = np.array([[distance/10000], [Walls/3], [LOS/4], [sf/12], [pw/27]])\n",
    "        inpt = inpt.reshape(1,-1)\n",
    "        pred = model.predict(inpt)\n",
    "        prediction[0][n] = pred[0][0]\n",
    "        pwvec[0][n] = pw\n",
    "        sfvec[0][n] = sf\n",
    "        pw = pw + 2\n",
    "        n = n+1\n",
    "    inpt = np.array([[distance/10000], [Walls/3], [LOS/4], [sf/12], [pw/27]])\n",
    "    inpt = inpt.reshape(1,-1)\n",
    "    pred = model.predict(inpt)\n",
    "    prediction[0][n] = pred[0][0]\n",
    "    pwvec[0][n] = pw\n",
    "    sfvec[0][n] = sf\n",
    "    sf = sf+1"
   ]
  },
  {
   "cell_type": "code",
   "execution_count": 17,
   "metadata": {},
   "outputs": [
    {
     "ename": "SyntaxError",
     "evalue": "'return' outside function (<ipython-input-17-6348fc1f9e75>, line 12)",
     "output_type": "error",
     "traceback": [
      "\u001b[1;36m  File \u001b[1;32m\"<ipython-input-17-6348fc1f9e75>\"\u001b[1;36m, line \u001b[1;32m12\u001b[0m\n\u001b[1;33m    return Power\u001b[0m\n\u001b[1;37m    ^\u001b[0m\n\u001b[1;31mSyntaxError\u001b[0m\u001b[1;31m:\u001b[0m 'return' outside function\n"
     ]
    }
   ],
   "source": [
    "new_pwvec = np.zeros((1,13))\n",
    "new_prediction = np.zeros((1,13))\n",
    "n = 0\n",
    "for i in range(0,78):\n",
    "    if(sfvec[0][i]==SF):\n",
    "        new_pwvec[0][n] = pwvec[0][i]\n",
    "        new_prediction[0][n] = format(prediction[0][i], '.2f')\n",
    "        n = n+1\n",
    "for i in range(0,13):\n",
    "    if(new_prediction[0][i]==PRR):\n",
    "        Power = new_pwvec[0][i]"
   ]
  },
  {
   "cell_type": "code",
   "execution_count": null,
   "metadata": {},
   "outputs": [],
   "source": []
  }
 ],
 "metadata": {
  "kernelspec": {
   "display_name": "Python 3",
   "language": "python",
   "name": "python3"
  },
  "language_info": {
   "codemirror_mode": {
    "name": "ipython",
    "version": 3
   },
   "file_extension": ".py",
   "mimetype": "text/x-python",
   "name": "python",
   "nbconvert_exporter": "python",
   "pygments_lexer": "ipython3",
   "version": "3.8.5"
  }
 },
 "nbformat": 4,
 "nbformat_minor": 4
}
